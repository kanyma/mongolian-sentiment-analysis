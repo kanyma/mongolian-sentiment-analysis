{
 "cells": [
  {
   "cell_type": "code",
   "execution_count": 1,
   "metadata": {},
   "outputs": [],
   "source": [
    "import pandas as pd\n",
    "import numpy as np"
   ]
  },
  {
   "cell_type": "code",
   "execution_count": 16,
   "metadata": {},
   "outputs": [],
   "source": [
    "#load data\n",
    "data= pd.read_csv(\"1111_mn.csv\")\n",
    "data = data[['content', 'type_text']]"
   ]
  },
  {
   "cell_type": "code",
   "execution_count": 17,
   "metadata": {},
   "outputs": [],
   "source": [
    "\n",
    "#shuppling data\n",
    "data1=data.sample(frac=1)"
   ]
  },
  {
   "cell_type": "code",
   "execution_count": 18,
   "metadata": {},
   "outputs": [
    {
     "data": {
      "text/html": [
       "<div>\n",
       "<style scoped>\n",
       "    .dataframe tbody tr th:only-of-type {\n",
       "        vertical-align: middle;\n",
       "    }\n",
       "\n",
       "    .dataframe tbody tr th {\n",
       "        vertical-align: top;\n",
       "    }\n",
       "\n",
       "    .dataframe thead th {\n",
       "        text-align: right;\n",
       "    }\n",
       "</style>\n",
       "<table border=\"1\" class=\"dataframe\">\n",
       "  <thead>\n",
       "    <tr style=\"text-align: right;\">\n",
       "      <th></th>\n",
       "      <th>content</th>\n",
       "      <th>type_text</th>\n",
       "    </tr>\n",
       "  </thead>\n",
       "  <tbody>\n",
       "    <tr>\n",
       "      <th>2535</th>\n",
       "      <td>Сайн байна уу\\r\\nЗамын түгжрэлтэйгээр холбоото...</td>\n",
       "      <td>Гомдол</td>\n",
       "    </tr>\n",
       "    <tr>\n",
       "      <th>205</th>\n",
       "      <td>Voice/9235/Шинэчлэлийн Засгийн газрын үйл ажил...</td>\n",
       "      <td>Талархал</td>\n",
       "    </tr>\n",
       "    <tr>\n",
       "      <th>4607</th>\n",
       "      <td>Амгалангийн зам дагуу зам засаж байгаа. супер ...</td>\n",
       "      <td>Гомдол</td>\n",
       "    </tr>\n",
       "    <tr>\n",
       "      <th>4034</th>\n",
       "      <td>ХУДүүргийн хөдөлмөрийн хэлтэсийн дарга Алтанцэ...</td>\n",
       "      <td>Гомдол</td>\n",
       "    </tr>\n",
       "    <tr>\n",
       "      <th>869</th>\n",
       "      <td>3-р эмнэлэгийн эмч Ганбаатар , Алтанхуяг, боол...</td>\n",
       "      <td>Талархал</td>\n",
       "    </tr>\n",
       "    <tr>\n",
       "      <th>...</th>\n",
       "      <td>...</td>\n",
       "      <td>...</td>\n",
       "    </tr>\n",
       "    <tr>\n",
       "      <th>1895</th>\n",
       "      <td>СХД-ийн Цамбагаравын Нэгдсэн эмнэлгийн Дотрын ...</td>\n",
       "      <td>Талархал</td>\n",
       "    </tr>\n",
       "    <tr>\n",
       "      <th>768</th>\n",
       "      <td>СХД 2-р амбулторийн шүдний тасгаар үйлчлүүлсэн...</td>\n",
       "      <td>Талархал</td>\n",
       "    </tr>\n",
       "    <tr>\n",
       "      <th>871</th>\n",
       "      <td>Өчигдөр БЗД-ийн 4-р хорооны 43-р байрны гадаа ...</td>\n",
       "      <td>Талархал</td>\n",
       "    </tr>\n",
       "    <tr>\n",
       "      <th>1794</th>\n",
       "      <td>СБД-н халамжийн мэргэжилтэн Энхтуул нь албан ү...</td>\n",
       "      <td>Талархал</td>\n",
       "    </tr>\n",
       "    <tr>\n",
       "      <th>1088</th>\n",
       "      <td>Нярайн түргэн тусламжийн 2-р ээлжийн их эмч Да...</td>\n",
       "      <td>Талархал</td>\n",
       "    </tr>\n",
       "  </tbody>\n",
       "</table>\n",
       "<p>5928 rows × 2 columns</p>\n",
       "</div>"
      ],
      "text/plain": [
       "                                                content type_text\n",
       "2535  Сайн байна уу\\r\\nЗамын түгжрэлтэйгээр холбоото...    Гомдол\n",
       "205   Voice/9235/Шинэчлэлийн Засгийн газрын үйл ажил...  Талархал\n",
       "4607  Амгалангийн зам дагуу зам засаж байгаа. супер ...    Гомдол\n",
       "4034  ХУДүүргийн хөдөлмөрийн хэлтэсийн дарга Алтанцэ...    Гомдол\n",
       "869   3-р эмнэлэгийн эмч Ганбаатар , Алтанхуяг, боол...  Талархал\n",
       "...                                                 ...       ...\n",
       "1895  СХД-ийн Цамбагаравын Нэгдсэн эмнэлгийн Дотрын ...  Талархал\n",
       "768   СХД 2-р амбулторийн шүдний тасгаар үйлчлүүлсэн...  Талархал\n",
       "871   Өчигдөр БЗД-ийн 4-р хорооны 43-р байрны гадаа ...  Талархал\n",
       "1794  СБД-н халамжийн мэргэжилтэн Энхтуул нь албан ү...  Талархал\n",
       "1088  Нярайн түргэн тусламжийн 2-р ээлжийн их эмч Да...  Талархал\n",
       "\n",
       "[5928 rows x 2 columns]"
      ]
     },
     "execution_count": 18,
     "metadata": {},
     "output_type": "execute_result"
    }
   ],
   "source": [
    "data1"
   ]
  },
  {
   "cell_type": "code",
   "execution_count": 4,
   "metadata": {},
   "outputs": [
    {
     "name": "stderr",
     "output_type": "stream",
     "text": [
      "Using TensorFlow backend.\n"
     ]
    }
   ],
   "source": [
    "from sklearn.feature_extraction.text import CountVectorizer\n",
    "from keras.preprocessing.text import Tokenizer\n",
    "from keras.preprocessing.sequence import pad_sequences\n",
    "from keras.models import Sequential\n",
    "from keras.layers import Dense, Embedding, LSTM, SpatialDropout1D\n",
    "from sklearn.model_selection import train_test_split\n",
    "from keras.utils.np_utils import to_categorical\n",
    "import re\n"
   ]
  },
  {
   "cell_type": "code",
   "execution_count": 19,
   "metadata": {},
   "outputs": [
    {
     "name": "stdout",
     "output_type": "stream",
     "text": [
      "2535    сайн байна уу\\r\\nзамын түгжрэлтэйгээр холбоото...\n",
      "205     voice/9235/шинэчлэлийн засгийн газрын үйл ажил...\n",
      "4607    амгалангийн зам дагуу зам засаж байгаа. супер ...\n",
      "4034    худүүргийн хөдөлмөрийн хэлтэсийн дарга алтанцэ...\n",
      "869     3-р эмнэлэгийн эмч ганбаатар , алтанхуяг, боол...\n",
      "                              ...                        \n",
      "1895    схд-ийн цамбагаравын нэгдсэн эмнэлгийн дотрын ...\n",
      "768     схд 2-р амбулторийн шүдний тасгаар үйлчлүүлсэн...\n",
      "871     өчигдөр бзд-ийн 4-р хорооны 43-р байрны гадаа ...\n",
      "1794    сбд-н халамжийн мэргэжилтэн энхтуул нь албан ү...\n",
      "1088    нярайн түргэн тусламжийн 2-р ээлжийн их эмч да...\n",
      "Name: content, Length: 5928, dtype: object\n",
      "4866\n",
      "6990\n"
     ]
    }
   ],
   "source": [
    "#setting all data to lower  \n",
    "data1['content'] = data1['content'].apply(lambda x: x.lower())\n",
    "\n",
    "#change label urlag and tech to integer like 0 and 1\n",
    "data1['type_text'] = data1['type_text'].apply((lambda x: re.sub('Талархал','1',x)))\n",
    "data1['type_text'] = data1['type_text'].apply((lambda x: re.sub('Гомдол','0',x)))\n",
    "print(data1['content'])\n",
    "print(data1[ data1['type_text'] == '1'].size)\n",
    "print(data1[ data1['type_text'] == '0'].size)\n",
    "\n",
    "for idx,row in data.iterrows():\n",
    "    row[0] = row[0].replace('rt',' ')\n",
    "\n",
    "    #vectorizing text data to int\n",
    "max_fatures = 2000\n",
    "tokenizer = Tokenizer(num_words=max_fatures, split=' ')\n",
    "tokenizer.fit_on_texts(data1['content'].values)\n",
    "X = tokenizer.texts_to_sequences(data1['content'].values)\n",
    "X = pad_sequences(X, maxlen=128)"
   ]
  },
  {
   "cell_type": "code",
   "execution_count": 20,
   "metadata": {},
   "outputs": [
    {
     "name": "stdout",
     "output_type": "stream",
     "text": [
      "2433\n",
      "3495\n"
     ]
    }
   ],
   "source": [
    "print(len(data1[ data1['type_text'] == '1']))\n",
    "print(len(data1[ data1['type_text'] == '0']))"
   ]
  },
  {
   "cell_type": "code",
   "execution_count": 21,
   "metadata": {},
   "outputs": [
    {
     "name": "stdout",
     "output_type": "stream",
     "text": [
      "Model: \"sequential_2\"\n",
      "_________________________________________________________________\n",
      "Layer (type)                 Output Shape              Param #   \n",
      "=================================================================\n",
      "embedding_2 (Embedding)      (None, 128, 128)          256000    \n",
      "_________________________________________________________________\n",
      "spatial_dropout1d_2 (Spatial (None, 128, 128)          0         \n",
      "_________________________________________________________________\n",
      "lstm_2 (LSTM)                (None, 196)               254800    \n",
      "_________________________________________________________________\n",
      "dense_2 (Dense)              (None, 2)                 394       \n",
      "=================================================================\n",
      "Total params: 511,194\n",
      "Trainable params: 511,194\n",
      "Non-trainable params: 0\n",
      "_________________________________________________________________\n",
      "None\n"
     ]
    }
   ],
   "source": [
    "# building model for rnn sentimental analysis\n",
    "\n",
    "embed_dim = 128\n",
    "lstm_out = 196\n",
    "\n",
    "model = Sequential()\n",
    "model.add(Embedding(max_fatures, embed_dim,input_length = X.shape[1]))\n",
    "model.add(SpatialDropout1D(0.4))\n",
    "model.add(LSTM(lstm_out, dropout=0.2, recurrent_dropout=0.2))\n",
    "model.add(Dense(2,activation='softmax'))\n",
    "model.compile(loss = 'categorical_crossentropy', optimizer='adam',metrics = ['accuracy'])\n",
    "print(model.summary())\n",
    "\n"
   ]
  },
  {
   "cell_type": "code",
   "execution_count": 22,
   "metadata": {},
   "outputs": [
    {
     "name": "stdout",
     "output_type": "stream",
     "text": [
      "(3971, 128) (3971, 2)\n",
      "(1957, 128) (1957, 2)\n"
     ]
    }
   ],
   "source": [
    "#declaring the train and test dataset.\n",
    "Y = pd.get_dummies(data1['type_text']).values\n",
    "X_train, X_test, Y_train, Y_test = train_test_split(X,Y, test_size = 0.33, random_state = 42)\n",
    "print(X_train.shape,Y_train.shape)\n",
    "print(X_test.shape,Y_test.shape)\n",
    "\n"
   ]
  },
  {
   "cell_type": "code",
   "execution_count": 23,
   "metadata": {},
   "outputs": [
    {
     "name": "stderr",
     "output_type": "stream",
     "text": [
      "/home/nyma/virtual_env/lib/python3.6/site-packages/tensorflow/python/framework/indexed_slices.py:434: UserWarning: Converting sparse IndexedSlices to a dense Tensor of unknown shape. This may consume a large amount of memory.\n",
      "  \"Converting sparse IndexedSlices to a dense Tensor of unknown shape. \"\n"
     ]
    },
    {
     "name": "stdout",
     "output_type": "stream",
     "text": [
      "Epoch 1/7\n",
      " - 23s - loss: 0.2419 - accuracy: 0.9018\n",
      "Epoch 2/7\n",
      " - 22s - loss: 0.0667 - accuracy: 0.9801\n",
      "Epoch 3/7\n",
      " - 23s - loss: 0.0651 - accuracy: 0.9849\n",
      "Epoch 4/7\n",
      " - 22s - loss: 0.0288 - accuracy: 0.9929\n",
      "Epoch 5/7\n",
      " - 22s - loss: 0.0309 - accuracy: 0.9922\n",
      "Epoch 6/7\n",
      " - 22s - loss: 0.0196 - accuracy: 0.9965\n",
      "Epoch 7/7\n",
      " - 23s - loss: 0.0148 - accuracy: 0.9952\n"
     ]
    },
    {
     "data": {
      "text/plain": [
       "<keras.callbacks.callbacks.History at 0x7f068b7a2cf8>"
      ]
     },
     "execution_count": 23,
     "metadata": {},
     "output_type": "execute_result"
    }
   ],
   "source": [
    "#training\n",
    "batch_size = 32\n",
    "model.fit(X_train, Y_train, epochs = 7, batch_size=batch_size, verbose = 2)"
   ]
  },
  {
   "cell_type": "code",
   "execution_count": 24,
   "metadata": {},
   "outputs": [
    {
     "name": "stdout",
     "output_type": "stream",
     "text": [
      "score: 0.09\n",
      "acc: 0.97\n"
     ]
    }
   ],
   "source": [
    "#Extracting a validation set, and measuring score and accuracy.\n",
    "validation_size = 1500\n",
    "\n",
    "X_validate = X_test[-validation_size:]\n",
    "Y_validate = Y_test[-validation_size:]\n",
    "X_test = X_test[:-validation_size]\n",
    "Y_test = Y_test[:-validation_size]\n",
    "score,acc = model.evaluate(X_test, Y_test, verbose = 2, batch_size = batch_size)\n",
    "print(\"score: %.2f\" % (score))\n",
    "print(\"acc: %.2f\" % (acc))"
   ]
  },
  {
   "cell_type": "code",
   "execution_count": 25,
   "metadata": {},
   "outputs": [
    {
     "name": "stdout",
     "output_type": "stream",
     "text": [
      "pos_acc 97.64150943396226 %\n",
      "neg_acc 98.95833333333334 %\n"
     ]
    }
   ],
   "source": [
    "\n",
    "pos_cnt, neg_cnt, pos_correct, neg_correct = 0, 0, 0, 0\n",
    "for x in range(len(X_validate)):\n",
    "    \n",
    "    result = model.predict(X_validate[x].reshape(1,X_test.shape[1]),batch_size=1,verbose = 2)[0]\n",
    "   \n",
    "    if np.argmax(result) == np.argmax(Y_validate[x]):\n",
    "        if np.argmax(Y_validate[x]) == 0:\n",
    "            neg_correct += 1\n",
    "        else:\n",
    "            pos_correct += 1\n",
    "       \n",
    "    if np.argmax(Y_validate[x]) == 0:\n",
    "        neg_cnt += 1\n",
    "    else:\n",
    "        pos_cnt += 1\n",
    "\n",
    "\n",
    "\n",
    "print(\"pos_acc\", pos_correct/pos_cnt*100, \"%\")\n",
    "print(\"neg_acc\", neg_correct/neg_cnt*100, \"%\")\n",
    "\n"
   ]
  },
  {
   "cell_type": "code",
   "execution_count": 12,
   "metadata": {},
   "outputs": [
    {
     "name": "stdout",
     "output_type": "stream",
     "text": [
      "Negative\n"
     ]
    }
   ],
   "source": [
    "\n",
    "twt = [' Дүүргийн удирдлага, хотын удирдлага анхааралдаа авч засварлахгүй бол зүүн 3 аймаг, налайхын иргэд цаашлаад уг замаар зорчиж байгаа хүн бүрт маш хүндрэлтэй байна.']\n",
    "#vectorizing the tweet by the pre-fitted tokenizer instance\n",
    "twt = tokenizer.texts_to_sequences(twt)\n",
    "#padding the tweet to have exactly the same shape as `embedding_2` input\n",
    "twt = pad_sequences(twt, maxlen=128, dtype='int32', value=0)\n",
    "sentiment = model.predict(twt,batch_size=1,verbose = 2)[0]\n",
    "if(np.argmax(sentiment) == 0):\n",
    "    print(\"Negative\")\n",
    "elif (np.argmax(sentiment) == 1):\n",
    "    print(\"Positive\")\n",
    "\n"
   ]
  },
  {
   "cell_type": "code",
   "execution_count": null,
   "metadata": {},
   "outputs": [],
   "source": []
  },
  {
   "cell_type": "code",
   "execution_count": null,
   "metadata": {},
   "outputs": [],
   "source": []
  }
 ],
 "metadata": {
  "kernelspec": {
   "display_name": "Python 3",
   "language": "python",
   "name": "python3"
  },
  "language_info": {
   "codemirror_mode": {
    "name": "ipython",
    "version": 3
   },
   "file_extension": ".py",
   "mimetype": "text/x-python",
   "name": "python",
   "nbconvert_exporter": "python",
   "pygments_lexer": "ipython3",
   "version": "3.6.10"
  }
 },
 "nbformat": 4,
 "nbformat_minor": 4
}
