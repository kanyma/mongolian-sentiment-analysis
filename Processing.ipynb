{
 "cells": [
  {
   "cell_type": "code",
   "execution_count": 1,
   "metadata": {
    "scrolled": true
   },
   "outputs": [],
   "source": [
    "import pandas as pd\n",
    "from sklearn.metrics import classification_report\n",
    "from sklearn.metrics import confusion_matrix\n",
    "from nltk.tokenize import word_tokenize\n",
    "\n",
    "import nltk"
   ]
  },
  {
   "cell_type": "markdown",
   "metadata": {},
   "source": [
    "# netflix translated"
   ]
  },
  {
   "cell_type": "code",
   "execution_count": 2,
   "metadata": {},
   "outputs": [],
   "source": [
    "train_df = pd.read_csv(\"reviews_shuffled.txt\", sep='\\t', header=None)\n",
    "train_df1 = pd.read_csv(\"export_dataframe.csv\", sep='\\t', header=None)"
   ]
  },
  {
   "cell_type": "code",
   "execution_count": 3,
   "metadata": {},
   "outputs": [],
   "source": [
    "label=[x[-1:] for x in train_df[0]]\n",
    "data = [x for x in train_df1[0]]"
   ]
  },
  {
   "cell_type": "code",
   "execution_count": 4,
   "metadata": {},
   "outputs": [
    {
     "name": "stdout",
     "output_type": "stream",
     "text": [
      "['1', '1', '1', '0', '1', '0', '1', '0', '1', '0']\n",
      "['том нөлөө бүхий жижиг кино', 'сэдвийг гүн гүнзгий, резонанс бүхий дүр төрхтэй болгох боломжийг санал болгохын тулд зориудаар, чадварлаг ашиглаж байна.', 'кинон дээр гарсан хөдөлгөөнт яруу найраг нь хөгжилтэй, мэдээлэл сайтай баримтат киноны хувьд бага зэрэг давтагдах боломжтой', 'үндсэндээ оддын хоорондох хагас импровизация болон хагас уялдаатай рапсын статик цуврал юм', 'энэ жилийн хамгийн ухаантай, хуурамч хошин шогуудын нэг болно', 'багц дээр хэн ч хошигнол мэдрэмжгүй, эсвэл тэд ярих мэдрэл байхгүй байсан', 'Алдарт эцэг эхчүүдэд дуурайж буй залуу эрчүүдэд ба эрсдэл нь камерын өмнө шинэ дүр төрх, мэдрэмжийг авчирдаг', 'гудамжны найдвартай байдлыг шаардахын тулд хэтэрхий гулсаж, үйлдвэрлэсэн', 'дамжуулж болохуйц зугаа цэнгэл гэхдээ энэ нь гарсны дараа маш олон тооны дүр төрх үүсгэсэн бөгөөд дараа нь дурсагдахгүй болно.', 'энэрэл нигүүлслийн захиас нь тун тодорхой бөгөөд тусгайлан компьютерийн хөдөлгөөнт хуучны гэрээслүүлсэн үлгэрийн үлгэрээр дамжуулж, эрч хүчтэй хөгжимт жүжигтэй хөгжилтэй, цоглог байхыг эрмэлзсэн халим энэ хошигнолыг насанд хүрээгүй юм']\n"
     ]
    }
   ],
   "source": [
    "print(label[0:10])\n",
    "print(data[0:10])"
   ]
  },
  {
   "cell_type": "code",
   "execution_count": 5,
   "metadata": {},
   "outputs": [],
   "source": [
    "train_x = [data[x] for x in range(0, 9000)]\n",
    "train_y = [label[i] for i in range(0, 9000)]\n",
    "\n",
    "\n",
    "test_x = [data[j] for j in range(9002,10662)]\n",
    "test_y = [label[o] for o in range(9002,10662)]"
   ]
  },
  {
   "cell_type": "code",
   "execution_count": null,
   "metadata": {},
   "outputs": [],
   "source": []
  },
  {
   "cell_type": "code",
   "execution_count": null,
   "metadata": {},
   "outputs": [],
   "source": []
  },
  {
   "cell_type": "markdown",
   "metadata": {},
   "source": [
    "# amazon data preprocessing"
   ]
  },
  {
   "cell_type": "code",
   "execution_count": 2,
   "metadata": {},
   "outputs": [],
   "source": [
    "train_df = pd.read_csv(\"/home/ubuntu/Downloads/amazonreviews/train.ft.txt\", sep='\\t',header=None)\n",
    "test_df = pd.read_csv(\"/home/ubuntu/Downloads/amazonreviews/test.ft.txt\", sep='\\t')"
   ]
  },
  {
   "cell_type": "code",
   "execution_count": 3,
   "metadata": {},
   "outputs": [],
   "source": [
    "s = train_df[0]\n",
    "test_s = test_df['test data']"
   ]
  },
  {
   "cell_type": "code",
   "execution_count": 26,
   "metadata": {},
   "outputs": [],
   "source": [
    "\n",
    "test = [test_s[y] for y in range(0, 3000)]\n",
    "train = [s[x] for x in range(0, 10000)]\n"
   ]
  },
  {
   "cell_type": "code",
   "execution_count": 5,
   "metadata": {},
   "outputs": [
    {
     "data": {
      "text/plain": [
       "1000"
      ]
     },
     "execution_count": 5,
     "metadata": {},
     "output_type": "execute_result"
    }
   ],
   "source": [
    "len(test)"
   ]
  },
  {
   "cell_type": "code",
   "execution_count": 6,
   "metadata": {},
   "outputs": [
    {
     "data": {
      "text/plain": [
       "'__label__2'"
      ]
     },
     "execution_count": 6,
     "metadata": {},
     "output_type": "execute_result"
    }
   ],
   "source": [
    "word_tokenize(s[0])[0]"
   ]
  },
  {
   "cell_type": "code",
   "execution_count": 27,
   "metadata": {},
   "outputs": [],
   "source": [
    "train_x = [x[10:] for x in train]\n",
    "train_y = [word_tokenize(y)[0] for y in train]\n",
    "\n",
    "test_x = [h[10:] for h in test]\n",
    "test_y = [word_tokenize(g)[0] for g in test]\n"
   ]
  },
  {
   "cell_type": "code",
   "execution_count": 8,
   "metadata": {},
   "outputs": [],
   "source": [
    "# train_xd = pd.DataFrame(train_x, columns=['text'])\n",
    "# test_xd = pd.DataFrame(test_x, columns=['text'])\n",
    "\n",
    "# test_ys = pd.DataFrame(test_y, columns=['labels'])\n",
    "# train_ys = pd.DataFrame(train_y, columns=['labels'])"
   ]
  },
  {
   "cell_type": "code",
   "execution_count": 9,
   "metadata": {},
   "outputs": [],
   "source": [
    "# train_dev_xs = train_xd['text'].apply(lambda x: word_tokenize(x))\n",
    "\n",
    "# test_xs = test_xd['text'].apply( lambda x: word_tokenize(x))\n"
   ]
  },
  {
   "cell_type": "code",
   "execution_count": 10,
   "metadata": {
    "scrolled": true
   },
   "outputs": [],
   "source": [
    "# train_dev_xss=pd.DataFrame(train_dev_xs,columns=['text'])\n",
    "# test_xss=pd.DataFrame(test_xs,columns=['text'])"
   ]
  },
  {
   "cell_type": "markdown",
   "metadata": {},
   "source": [
    "# Netflix data preprocessing"
   ]
  },
  {
   "cell_type": "code",
   "execution_count": 3,
   "metadata": {},
   "outputs": [],
   "source": [
    "train_df = pd.read_csv(\"reviews_shuffled.txt\", sep='\\t', header=None)\n",
    "train_df1 = pd.read_csv(\"export_dataframe.csv\", sep='\\t', header=None)"
   ]
  },
  {
   "cell_type": "code",
   "execution_count": 5,
   "metadata": {},
   "outputs": [
    {
     "name": "stdout",
     "output_type": "stream",
     "text": [
      "10662\n",
      "10662\n"
     ]
    }
   ],
   "source": [
    "label=[x[-1:] for x in train_df[0]]\n",
    "data = [x for x in train_df1[0]]\n",
    "from string import punctuation\n",
    "# all_text = '\\n'.join([c for c in data if c not in punctuation])\n",
    "reviews_split = [c for c in data if c not in punctuation]\n",
    "print(len(reviews_split))\n",
    "print(len(label))"
   ]
  },
  {
   "cell_type": "code",
   "execution_count": 6,
   "metadata": {},
   "outputs": [
    {
     "name": "stdout",
     "output_type": "stream",
     "text": [
      "['1', '1', '1', '0', '1', '0', '1', '0', '1', '0']\n",
      "['том нөлөө бүхий жижиг кино', 'сэдвийг гүн гүнзгий, резонанс бүхий дүр төрхтэй болгох боломжийг санал болгохын тулд зориудаар, чадварлаг ашиглаж байна.', 'кинон дээр гарсан хөдөлгөөнт яруу найраг нь хөгжилтэй, мэдээлэл сайтай баримтат киноны хувьд бага зэрэг давтагдах боломжтой', 'үндсэндээ оддын хоорондох хагас импровизация болон хагас уялдаатай рапсын статик цуврал юм', 'энэ жилийн хамгийн ухаантай, хуурамч хошин шогуудын нэг болно', 'багц дээр хэн ч хошигнол мэдрэмжгүй, эсвэл тэд ярих мэдрэл байхгүй байсан', 'Алдарт эцэг эхчүүдэд дуурайж буй залуу эрчүүдэд ба эрсдэл нь камерын өмнө шинэ дүр төрх, мэдрэмжийг авчирдаг', 'гудамжны найдвартай байдлыг шаардахын тулд хэтэрхий гулсаж, үйлдвэрлэсэн', 'дамжуулж болохуйц зугаа цэнгэл гэхдээ энэ нь гарсны дараа маш олон тооны дүр төрх үүсгэсэн бөгөөд дараа нь дурсагдахгүй болно.', 'энэрэл нигүүлслийн захиас нь тун тодорхой бөгөөд тусгайлан компьютерийн хөдөлгөөнт хуучны гэрээслүүлсэн үлгэрийн үлгэрээр дамжуулж, эрч хүчтэй хөгжимт жүжигтэй хөгжилтэй, цоглог байхыг эрмэлзсэн халим энэ хошигнолыг насанд хүрээгүй юм']\n"
     ]
    }
   ],
   "source": [
    "print(label[0:10])\n",
    "print(data[0:10])"
   ]
  },
  {
   "cell_type": "code",
   "execution_count": 7,
   "metadata": {},
   "outputs": [],
   "source": [
    "train_x = [reviews_split[x] for x in range(0, 9000)]\n",
    "train_y = [label[i] for i in range(0, 9000)]\n",
    "\n",
    "\n",
    "test_x = [reviews_split[j] for j in range(9002,10662)]\n",
    "test_y = [label[o] for o in range(9002,10662)]"
   ]
  },
  {
   "cell_type": "code",
   "execution_count": 8,
   "metadata": {},
   "outputs": [
    {
     "name": "stdout",
     "output_type": "stream",
     "text": [
      "['том нөлөө бүхий жижиг кино', 'сэдвийг гүн гүнзгий, резонанс бүхий дүр төрхтэй болгох боломжийг санал болгохын тулд зориудаар, чадварлаг ашиглаж байна.', 'кинон дээр гарсан хөдөлгөөнт яруу найраг нь хөгжилтэй, мэдээлэл сайтай баримтат киноны хувьд бага зэрэг давтагдах боломжтой', 'үндсэндээ оддын хоорондох хагас импровизация болон хагас уялдаатай рапсын статик цуврал юм', 'энэ жилийн хамгийн ухаантай, хуурамч хошин шогуудын нэг болно', 'багц дээр хэн ч хошигнол мэдрэмжгүй, эсвэл тэд ярих мэдрэл байхгүй байсан', 'Алдарт эцэг эхчүүдэд дуурайж буй залуу эрчүүдэд ба эрсдэл нь камерын өмнө шинэ дүр төрх, мэдрэмжийг авчирдаг', 'гудамжны найдвартай байдлыг шаардахын тулд хэтэрхий гулсаж, үйлдвэрлэсэн', 'дамжуулж болохуйц зугаа цэнгэл гэхдээ энэ нь гарсны дараа маш олон тооны дүр төрх үүсгэсэн бөгөөд дараа нь дурсагдахгүй болно.', 'энэрэл нигүүлслийн захиас нь тун тодорхой бөгөөд тусгайлан компьютерийн хөдөлгөөнт хуучны гэрээслүүлсэн үлгэрийн үлгэрээр дамжуулж, эрч хүчтэй хөгжимт жүжигтэй хөгжилтэй, цоглог байхыг эрмэлзсэн халим энэ хошигнолыг насанд хүрээгүй юм']\n",
      "['1', '1', '1', '0', '1', '0', '1', '0', '1', '0']\n",
      "['Энэ зураг нь ихэнхдээ тээрмийн үг хэллэгийн талаархи цөөн хэдэн үг хэллэгээр цацагдсан тул үзэгчид түүнийг өргөмжлөлөөр ажиллуулж байгаа эсвэл туршилтын ажилтан дээр түрүүлэх гэж оролдож байгаа мэт сэтгэгдэл төрүүлэх гэсэн сэтгэлийн анхаарал хандуулсан байна.', 'дасан зохицох ажил нь маш нарийн зохион байгуулалттай бөгөөд хачирхалтай байдлаар бүх номын хөндийн сэдвийг түүний номонд жинхэнэ дасан зохицох чадваргүй болгодог.', 'туйлын зөөлөн, аажмаар аажмаар бөгөөд дижитал видеогоор цацагдсан киноноос зайлсхийх нь ихэвчлэн тасралтгүй болдог', '\\xa0Америкийн Нэгдсэн Улс дахь хошигнолыг жанраар дуурсгахыг оролддог. Энэ кино нь 10 жилийн хугацаатай тоглодог франц хип хоптой дүйцэхүйц юм.', 'үр дүн нь маш жигд бус байсан ч гэсэн зоригтой байдаг', 'кино намайг нэг талаар эсвэл өөр чиглэлээр хөдөлөөгүй боловч энэ нь үнэнч шударга хүчин чармайлт байсан бөгөөд хэрэв та телемаркетын талаар гүйлгэхийг хүсвэл энэ нь шалтгаална', 'семинарын сэтгэлгээ давамгайлдаг', 'сонгодог хатагтай, ноёд хатагтайн целлофан поп-рейк нь бүдүүн гэдэс хэзээ ч муу биш,', 'хамгийн бага төсөөллөөр та ванныхаа бүх зүйлийг нөхөж чадна', '\\xa0butterfingered нь романтик байдлаас хамгийн жижиг мэдрэмжийг хүртэл тэсэлгээ хийж чаддаг jez butterworth-ийн том нударга чиглэлийн үг юм.']\n",
      "['0', '1', '0', '0', '0', '0', '0', '0', '0', '0']\n"
     ]
    }
   ],
   "source": [
    "print(train_x[0:10])\n",
    "print(train_y[0:10])\n",
    "\n",
    "print(test_x[0:10])\n",
    "print(test_y[0:10])"
   ]
  },
  {
   "cell_type": "markdown",
   "metadata": {},
   "source": [
    "# Goverment 1111.mn dataset preprocessing"
   ]
  },
  {
   "cell_type": "code",
   "execution_count": 2,
   "metadata": {},
   "outputs": [],
   "source": [
    "df = pd.read_csv(\"/home/ubuntu/Downloads/mongolian-government-agency-1111mn-dataset/1111_dataset.csv\")"
   ]
  },
  {
   "cell_type": "code",
   "execution_count": 3,
   "metadata": {},
   "outputs": [
    {
     "data": {
      "text/html": [
       "<div>\n",
       "<style scoped>\n",
       "    .dataframe tbody tr th:only-of-type {\n",
       "        vertical-align: middle;\n",
       "    }\n",
       "\n",
       "    .dataframe tbody tr th {\n",
       "        vertical-align: top;\n",
       "    }\n",
       "\n",
       "    .dataframe thead th {\n",
       "        text-align: right;\n",
       "    }\n",
       "</style>\n",
       "<table border=\"1\" class=\"dataframe\">\n",
       "  <thead>\n",
       "    <tr style=\"text-align: right;\">\n",
       "      <th></th>\n",
       "      <th>agency</th>\n",
       "      <th>content</th>\n",
       "      <th>created_at</th>\n",
       "      <th>source_text</th>\n",
       "      <th>status_text</th>\n",
       "      <th>type_text</th>\n",
       "    </tr>\n",
       "  </thead>\n",
       "  <tbody>\n",
       "    <tr>\n",
       "      <th>0</th>\n",
       "      <td>Нийслэлийн Засаг даргын Тамгын газар</td>\n",
       "      <td>Дулааны тухай</td>\n",
       "      <td>2012-10-13T16:33:29.484371Z</td>\n",
       "      <td>Дуудлага</td>\n",
       "      <td>Хаагдсан</td>\n",
       "      <td>Гомдол</td>\n",
       "    </tr>\n",
       "    <tr>\n",
       "      <th>1</th>\n",
       "      <td>Ерөнхий сайд</td>\n",
       "      <td>Ерөнхий сайдтай уулзах. Жолоочийн эрх ашиг алд...</td>\n",
       "      <td>2012-10-13T16:33:29.492197Z</td>\n",
       "      <td>Биечлэн</td>\n",
       "      <td>Хаагдсан</td>\n",
       "      <td>Санал хүсэлт</td>\n",
       "    </tr>\n",
       "    <tr>\n",
       "      <th>2</th>\n",
       "      <td>Хүнс, хөдөө аж ахуй, хөнгөн үйлдвэрийн яам</td>\n",
       "      <td>Нефтийн үйлдвэр байгуулах тухай.</td>\n",
       "      <td>2012-10-13T16:33:29.495729Z</td>\n",
       "      <td>Дуудлага</td>\n",
       "      <td>Хаагдсан</td>\n",
       "      <td>Санал хүсэлт</td>\n",
       "    </tr>\n",
       "    <tr>\n",
       "      <th>3</th>\n",
       "      <td>Цагдаагийн ерөнхий газар</td>\n",
       "      <td>Жолооны үнэмлэх яагаад хэвлэгдэхгүй байна ?</td>\n",
       "      <td>2012-10-13T16:33:29.499487Z</td>\n",
       "      <td>Дуудлага</td>\n",
       "      <td>Хаагдсан</td>\n",
       "      <td>Санал хүсэлт</td>\n",
       "    </tr>\n",
       "    <tr>\n",
       "      <th>4</th>\n",
       "      <td>Эрүүл мэндийн яам</td>\n",
       "      <td>БГД Гэмтэл-н эмнэлгийн гадуурх хашааг нураах т...</td>\n",
       "      <td>2012-10-13T16:33:29.503063Z</td>\n",
       "      <td>Дуудлага</td>\n",
       "      <td>Хаагдсан</td>\n",
       "      <td>Гомдол</td>\n",
       "    </tr>\n",
       "  </tbody>\n",
       "</table>\n",
       "</div>"
      ],
      "text/plain": [
       "                                       agency  \\\n",
       "0        Нийслэлийн Засаг даргын Тамгын газар   \n",
       "1                                Ерөнхий сайд   \n",
       "2  Хүнс, хөдөө аж ахуй, хөнгөн үйлдвэрийн яам   \n",
       "3                    Цагдаагийн ерөнхий газар   \n",
       "4                           Эрүүл мэндийн яам   \n",
       "\n",
       "                                             content  \\\n",
       "0                                      Дулааны тухай   \n",
       "1  Ерөнхий сайдтай уулзах. Жолоочийн эрх ашиг алд...   \n",
       "2                   Нефтийн үйлдвэр байгуулах тухай.   \n",
       "3        Жолооны үнэмлэх яагаад хэвлэгдэхгүй байна ?   \n",
       "4  БГД Гэмтэл-н эмнэлгийн гадуурх хашааг нураах т...   \n",
       "\n",
       "                    created_at source_text status_text     type_text  \n",
       "0  2012-10-13T16:33:29.484371Z    Дуудлага    Хаагдсан        Гомдол  \n",
       "1  2012-10-13T16:33:29.492197Z     Биечлэн    Хаагдсан  Санал хүсэлт  \n",
       "2  2012-10-13T16:33:29.495729Z    Дуудлага    Хаагдсан  Санал хүсэлт  \n",
       "3  2012-10-13T16:33:29.499487Z    Дуудлага    Хаагдсан  Санал хүсэлт  \n",
       "4  2012-10-13T16:33:29.503063Z    Дуудлага    Хаагдсан        Гомдол  "
      ]
     },
     "execution_count": 3,
     "metadata": {},
     "output_type": "execute_result"
    }
   ],
   "source": [
    "df.head()"
   ]
  },
  {
   "cell_type": "code",
   "execution_count": 4,
   "metadata": {},
   "outputs": [],
   "source": [
    "traindata = []\n",
    "trainlabel = []\n",
    "for i in range(0,len(df)):\n",
    "    if (df['type_text'][i]=='Гомдол' or df['type_text'][i]=='Талархал'):\n",
    "             traindata.append(df['content'][i])\n",
    "             trainlabel.append(df['type_text'][i])\n",
    "                "
   ]
  },
  {
   "cell_type": "code",
   "execution_count": 5,
   "metadata": {},
   "outputs": [],
   "source": [
    "train_xc = [traindata[x] for x in range(0, 9000)]\n",
    "train_yc = [trainlabel[i] for i in range(0, 9000)]\n",
    "\n",
    "\n",
    "test_xc = [traindata[j] for j in range(9002,11662)]\n",
    "test_yc = [trainlabel[o] for o in range(9002,11662)]"
   ]
  },
  {
   "cell_type": "code",
   "execution_count": 6,
   "metadata": {},
   "outputs": [
    {
     "name": "stdout",
     "output_type": "stream",
     "text": [
      "['Дулааны тухай', 'БГД Гэмтэл-н эмнэлгийн гадуурх хашааг нураах тухай', 'Ахмад-н тухай хууль.Хөгжилийн бэрхшээлтэй иргэдэд. /Портес/ эмчилгээний хөнгөлөлт үйлчилгээний тухай.', 'Байрны түрээсийн үнэ хэтэрхий үнэтэй байна. Төрөөс үүнд хяналт тавих.', '805 хойно зам тавиад зогссон. хашааны өмнө 4хуруу өтгөн шороо байна. маш их бужигнаж байна. эрүүл мэндээрээ хохирч байна. БЗД-р 3-р хороо утаагүй зуух өгөхгүй байна.', 'БЗД 5-р хороо 204-р байр. Сөх-дхүйтэн ус байнга хаагаад байнаа, кино үйлдвэр 204-байр.', 'Эко-н барилга аягуу их баригдаж байна. Барилгаа их ойрхон барьcнаас болж машины зогсоол хүрэлцээ муу байна. энэ асуудлаас болж түгжрэл гарж ард иргэдииг их бухимдуулж байна. Бүх машиныг ниитэд нь утасны дугаартай болгох тухай.', 'Баян-Өлгий аймагт гоо сайхны салон ажиллуулдаг. Удаа дараа цонх хагалсан, машин шатаасан . Эд материалын болон сэтгэл санааны хохирол учирсан. Эзэн нь олдохгүй хэрэг шийдэгдэхгүй байна.Тэмүүжин сайд хуулиа хэрэгжүүлэх тал дээр анхаарлаа хандуулаач ээ', 'кино үйлдвэрийн 204р байранд халуун хүйтэн ус одоог хүртэл байхгүй бн СӨХ дарга ажлаа хийхгүй бн', 'Дархан хотоос: Хаянхярваа гишүүн Баянхонгорын зам засварыг Дарханд авч ирээд нутгийнхаа хүмүүсийг ажиллуулаад байна. Нутагархаг үзлийг халмаар байна. Намын энэ системийг халмаар байна.']\n",
      "['Гомдол', 'Гомдол', 'Гомдол', 'Гомдол', 'Гомдол', 'Гомдол', 'Гомдол', 'Гомдол', 'Гомдол', 'Гомдол']\n",
      "['БГД-ийн 2-р хороо 2-р хороолол эко 57-р байр. Манай байранд халуун ус тасарч сар болж байна. 06.30-нд халуун ус ирнэ гэсэн боловч одоо болтол ирэхгүй байна. Энэ талаар ОСК-оос асуухад бид нар мэдэхгүй дулаанаас асуу гэж байна. Дулааны газраас одоо өглөө гэж өдий хүрч байна. Арга хэмжээ авч өгнө үү.', 'БГДүүргийн 4-р хороолын 8-р байр 2015 оны 06-р сарын 13-нд халуун ус тасраад одоо болтол ирэхгүй байгаад гомдолтой байна. Иймд энэ асуудлыг холбогдох газар нь уламжилж яаралтай шийдвэрлэж өгнө үү. Холбоо барих утас: 99241638', 'БЗДүүргийн 1-р хороо 8-1р байранд 22 цагаас хойш Дэнж хотхон контор нь хэрэглээний халуун хүйтэн усыг хааж байгаад гомдолтой байна. Иймд энэ асуудлыг холбогдох газар нь уламжилж арга хэмжээ авч өгнө үү. Холбоо барих утас 99115839', 'БГДүүргийн 8-р хорооны 25-2 байрны 2015 оны 06-р сарын 13-нь тасраад одоо болтол халуун ус ирэхгүй байгаад гомдолтой байна. Ингэж тасалж байгаа нь ямар учиртай юм бэ? Энэ талаар тодорхой мэдээлэл өгнө үү.', 'БГДүүргийн 4-р хорооллын 41-р байр дээврээсээ дусаал гоожоод 8 жил болж байна. Иймд энэ асуудлыг холбогдох газар нь яаралтай уламжилж арга хэмжээ авч өгнө үү', 'БЗДүүргийн замын цагдаа Амарсанаад гомдолтой байна.72 цаг орсон машин байна гэж зогсоогоод явуулахүй 10,0 төгрөгний торгууль ноогдуулж байна.Машиныхаа дугаарыг авах гээд явж байна гээд учир байдлаа тайлбарлаад хэлж байхад хүлээж авахгүй байна.Энэ асуудалд гомдолтой байна.', 'Эрүүл мэндийн түргэн тусламжийн 103-ийн эмч Одгэрэл 0562 гэсэн дугаартай жолоочид талархаж байна.', 'БЗД Сансарын 15-р хороолол 4-р хорооны 42-р байрны хойд талд авто угаалгаас бохир нь халиад орчин бохирдуулж байна. Дүүргээс ямар ямар ч арга авахгүй байна. Арга хэмжээ авч өгнө үү.', 'Наадмын тасалбар маш хүнд сурталтай зарагдаж байна. 100 хүнд өдөрт 200 билет зарагдлаа гээд дууссан гээд хаагаад явж байна. 2 өдөр очерлож зогссон хүмүүс хохирч байна. Бусад билетүүд нь хаагуур яаж зарагдаад байна вэ. Хонож очерлосон хүмүүст хүртээх хэрэгтэй шүү дээ.', 'ХУД эрүүл мэндийн эмнэлэг сүреэгийн эмч Отгонхүүд талархаж байна. Олон эмийн тасгийн сүреэгийн хяналтанд байдаг юм. Маш сайн эмчилгээ үйлчилгээтэй, иргэнтэй зөв боловсон ёс зүйтэй харьцаж үйлчилгээ үзүүлдэг учир талархаж байна.']\n",
      "['Гомдол', 'Гомдол', 'Гомдол', 'Гомдол', 'Гомдол', 'Гомдол', 'Талархал', 'Гомдол', 'Гомдол', 'Талархал']\n"
     ]
    }
   ],
   "source": [
    "print(train_xc[0:10])\n",
    "print(train_yc[0:10])\n",
    "\n",
    "print(test_xc[0:10])\n",
    "print(test_yc[0:10])"
   ]
  },
  {
   "cell_type": "markdown",
   "metadata": {},
   "source": [
    "# Modeling"
   ]
  },
  {
   "cell_type": "code",
   "execution_count": 6,
   "metadata": {},
   "outputs": [],
   "source": [
    "from sklearn.feature_extraction.text import TfidfVectorizer\n",
    "from sklearn.ensemble import GradientBoostingClassifier"
   ]
  },
  {
   "cell_type": "code",
   "execution_count": 7,
   "metadata": {},
   "outputs": [],
   "source": [
    "vectorizer = TfidfVectorizer()\n",
    "train_xs = vectorizer.fit_transform(train_x)\n",
    "test_xs = vectorizer.transform(test_x)"
   ]
  },
  {
   "cell_type": "code",
   "execution_count": 8,
   "metadata": {},
   "outputs": [
    {
     "data": {
      "text/plain": [
       "GradientBoostingClassifier(ccp_alpha=0.0, criterion='friedman_mse', init=None,\n",
       "                           learning_rate=0.1, loss='deviance', max_depth=3,\n",
       "                           max_features=None, max_leaf_nodes=None,\n",
       "                           min_impurity_decrease=0.0, min_impurity_split=None,\n",
       "                           min_samples_leaf=1, min_samples_split=2,\n",
       "                           min_weight_fraction_leaf=0.0, n_estimators=200,\n",
       "                           n_iter_no_change=5, presort='deprecated',\n",
       "                           random_state=23, subsample=1.0, tol=0.01,\n",
       "                           validation_fraction=0.2, verbose=0,\n",
       "                           warm_start=False)"
      ]
     },
     "execution_count": 8,
     "metadata": {},
     "output_type": "execute_result"
    }
   ],
   "source": [
    "\n",
    "\n",
    "model = GradientBoostingClassifier(n_estimators=200,\n",
    "                                   validation_fraction=0.2,\n",
    "                                   n_iter_no_change=5,\n",
    "                                   tol=0.01,\n",
    "                                   random_state=23)\n",
    "\n",
    "### 1/5 of full training data.\n",
    "# model = GradientBoostingClassifier(n_estimators=200,\n",
    "#                                    validation_fraction=len(dev_df)/len(train_df),\n",
    "#                                    n_iter_no_change=5,\n",
    "#                                    tol=0.01,\n",
    "#                                    random_state=23)\n",
    "\n",
    "model.fit(train_xs, train_y)"
   ]
  },
  {
   "cell_type": "code",
   "execution_count": 9,
   "metadata": {},
   "outputs": [
    {
     "name": "stdout",
     "output_type": "stream",
     "text": [
      "              precision    recall  f1-score   support\n",
      "\n",
      "           0       0.72      0.25      0.37       857\n",
      "           1       0.53      0.90      0.67       803\n",
      "\n",
      "    accuracy                           0.56      1660\n",
      "   macro avg       0.63      0.57      0.52      1660\n",
      "weighted avg       0.63      0.56      0.51      1660\n",
      "\n"
     ]
    }
   ],
   "source": [
    "print(classification_report(test_y, model.predict(test_xs)))"
   ]
  },
  {
   "cell_type": "code",
   "execution_count": 11,
   "metadata": {},
   "outputs": [
    {
     "name": "stdout",
     "output_type": "stream",
     "text": [
      "[[215 642]\n",
      " [ 83 720]]\n"
     ]
    }
   ],
   "source": [
    "print(confusion_matrix(test_y, model.predict(test_xs)))"
   ]
  },
  {
   "cell_type": "code",
   "execution_count": 13,
   "metadata": {},
   "outputs": [
    {
     "data": {
      "text/plain": [
       "array(['1'], dtype='<U1')"
      ]
     },
     "execution_count": 13,
     "metadata": {},
     "output_type": "execute_result"
    }
   ],
   "source": [
    "model.predict(vectorizer.transform(['таалагдахгүй байна']))"
   ]
  },
  {
   "cell_type": "code",
   "execution_count": 75,
   "metadata": {},
   "outputs": [
    {
     "data": {
      "text/plain": [
       "1660"
      ]
     },
     "execution_count": 75,
     "metadata": {},
     "output_type": "execute_result"
    }
   ],
   "source": [
    "len(test_x)"
   ]
  },
  {
   "cell_type": "code",
   "execution_count": null,
   "metadata": {},
   "outputs": [],
   "source": []
  }
 ],
 "metadata": {
  "kernelspec": {
   "display_name": "Python 3",
   "language": "python",
   "name": "python3"
  },
  "language_info": {
   "codemirror_mode": {
    "name": "ipython",
    "version": 3
   },
   "file_extension": ".py",
   "mimetype": "text/x-python",
   "name": "python",
   "nbconvert_exporter": "python",
   "pygments_lexer": "ipython3",
   "version": "3.6.8"
  }
 },
 "nbformat": 4,
 "nbformat_minor": 2
}
