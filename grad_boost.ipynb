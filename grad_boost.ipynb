{
 "cells": [
  {
   "cell_type": "code",
   "execution_count": 1,
   "metadata": {
    "scrolled": true
   },
   "outputs": [],
   "source": [
    "import pandas as pd\n",
    "from sklearn.metrics import classification_report\n",
    "from sklearn.metrics import confusion_matrix\n",
    "from nltk.tokenize import word_tokenize\n",
    "\n",
    "import nltk"
   ]
  },
  {
   "cell_type": "markdown",
   "metadata": {},
   "source": [
    "# netflix translated"
   ]
  },
  {
   "cell_type": "code",
   "execution_count": 3,
   "metadata": {},
   "outputs": [],
   "source": [
    "train_df = pd.read_csv(\"reviews_shuffled.txt\", sep='\\t', header=None)\n",
    "train_df1 = pd.read_csv(\"export_dataframe.csv\", sep='\\t', header=None)"
   ]
  },
  {
   "cell_type": "code",
   "execution_count": 4,
   "metadata": {},
   "outputs": [],
   "source": [
    "label=[x[-1:] for x in train_df[0]]\n",
    "data = [x for x in train_df1[0]]"
   ]
  },
  {
   "cell_type": "code",
   "execution_count": 5,
   "metadata": {},
   "outputs": [
    {
     "name": "stdout",
     "output_type": "stream",
     "text": [
      "['1', '1', '1', '0', '1', '0', '1', '0', '1', '0']\n",
      "['том нөлөө бүхий жижиг кино', 'сэдвийг гүн гүнзгий, резонанс бүхий дүр төрхтэй болгох боломжийг санал болгохын тулд зориудаар, чадварлаг ашиглаж байна.', 'кинон дээр гарсан хөдөлгөөнт яруу найраг нь хөгжилтэй, мэдээлэл сайтай баримтат киноны хувьд бага зэрэг давтагдах боломжтой', 'үндсэндээ оддын хоорондох хагас импровизация болон хагас уялдаатай рапсын статик цуврал юм', 'энэ жилийн хамгийн ухаантай, хуурамч хошин шогуудын нэг болно', 'багц дээр хэн ч хошигнол мэдрэмжгүй, эсвэл тэд ярих мэдрэл байхгүй байсан', 'Алдарт эцэг эхчүүдэд дуурайж буй залуу эрчүүдэд ба эрсдэл нь камерын өмнө шинэ дүр төрх, мэдрэмжийг авчирдаг', 'гудамжны найдвартай байдлыг шаардахын тулд хэтэрхий гулсаж, үйлдвэрлэсэн', 'дамжуулж болохуйц зугаа цэнгэл гэхдээ энэ нь гарсны дараа маш олон тооны дүр төрх үүсгэсэн бөгөөд дараа нь дурсагдахгүй болно.', 'энэрэл нигүүлслийн захиас нь тун тодорхой бөгөөд тусгайлан компьютерийн хөдөлгөөнт хуучны гэрээслүүлсэн үлгэрийн үлгэрээр дамжуулж, эрч хүчтэй хөгжимт жүжигтэй хөгжилтэй, цоглог байхыг эрмэлзсэн халим энэ хошигнолыг насанд хүрээгүй юм']\n"
     ]
    }
   ],
   "source": [
    "print(label[0:10])\n",
    "print(data[0:10])"
   ]
  },
  {
   "cell_type": "code",
   "execution_count": 6,
   "metadata": {},
   "outputs": [],
   "source": [
    "train_x = [data[x] for x in range(0, 9000)]\n",
    "train_y = [label[i] for i in range(0, 9000)]\n",
    "\n",
    "\n",
    "test_x = [data[j] for j in range(9002,10662)]\n",
    "test_y = [label[o] for o in range(9002,10662)]"
   ]
  },
  {
   "cell_type": "code",
   "execution_count": null,
   "metadata": {},
   "outputs": [],
   "source": []
  },
  {
   "cell_type": "code",
   "execution_count": null,
   "metadata": {},
   "outputs": [],
   "source": []
  },
  {
   "cell_type": "markdown",
   "metadata": {},
   "source": [
    "# amazon data preprocessing"
   ]
  },
  {
   "cell_type": "code",
   "execution_count": 2,
   "metadata": {},
   "outputs": [],
   "source": [
    "train_df = pd.read_csv(\"/home/ubuntu/Downloads/amazonreviews/train.ft.txt\", sep='\\t',header=None)\n",
    "test_df = pd.read_csv(\"/home/ubuntu/Downloads/amazonreviews/test.ft.txt\", sep='\\t')"
   ]
  },
  {
   "cell_type": "code",
   "execution_count": 3,
   "metadata": {},
   "outputs": [],
   "source": [
    "s = train_df[0]\n",
    "test_s = test_df['test data']"
   ]
  },
  {
   "cell_type": "code",
   "execution_count": 26,
   "metadata": {},
   "outputs": [],
   "source": [
    "\n",
    "test = [test_s[y] for y in range(0, 3000)]\n",
    "train = [s[x] for x in range(0, 10000)]\n"
   ]
  },
  {
   "cell_type": "code",
   "execution_count": 5,
   "metadata": {},
   "outputs": [
    {
     "data": {
      "text/plain": [
       "1000"
      ]
     },
     "execution_count": 5,
     "metadata": {},
     "output_type": "execute_result"
    }
   ],
   "source": [
    "len(test)"
   ]
  },
  {
   "cell_type": "code",
   "execution_count": 6,
   "metadata": {},
   "outputs": [
    {
     "data": {
      "text/plain": [
       "'__label__2'"
      ]
     },
     "execution_count": 6,
     "metadata": {},
     "output_type": "execute_result"
    }
   ],
   "source": [
    "word_tokenize(s[0])[0]"
   ]
  },
  {
   "cell_type": "code",
   "execution_count": 27,
   "metadata": {},
   "outputs": [],
   "source": [
    "train_x = [x[10:] for x in train]\n",
    "train_y = [word_tokenize(y)[0] for y in train]\n",
    "\n",
    "test_x = [h[10:] for h in test]\n",
    "test_y = [word_tokenize(g)[0] for g in test]\n"
   ]
  },
  {
   "cell_type": "code",
   "execution_count": 8,
   "metadata": {},
   "outputs": [],
   "source": [
    "# train_xd = pd.DataFrame(train_x, columns=['text'])\n",
    "# test_xd = pd.DataFrame(test_x, columns=['text'])\n",
    "\n",
    "# test_ys = pd.DataFrame(test_y, columns=['labels'])\n",
    "# train_ys = pd.DataFrame(train_y, columns=['labels'])"
   ]
  },
  {
   "cell_type": "code",
   "execution_count": 9,
   "metadata": {},
   "outputs": [],
   "source": [
    "# train_dev_xs = train_xd['text'].apply(lambda x: word_tokenize(x))\n",
    "\n",
    "# test_xs = test_xd['text'].apply( lambda x: word_tokenize(x))\n"
   ]
  },
  {
   "cell_type": "code",
   "execution_count": 10,
   "metadata": {
    "scrolled": true
   },
   "outputs": [],
   "source": [
    "# train_dev_xss=pd.DataFrame(train_dev_xs,columns=['text'])\n",
    "# test_xss=pd.DataFrame(test_xs,columns=['text'])"
   ]
  },
  {
   "cell_type": "markdown",
   "metadata": {},
   "source": [
    "# Netflix data preprocessing"
   ]
  },
  {
   "cell_type": "code",
   "execution_count": 3,
   "metadata": {},
   "outputs": [],
   "source": [
    "train_df = pd.read_csv(\"reviews_shuffled.txt\", sep='\\t', header=None)\n",
    "train_df1 = pd.read_csv(\"export_dataframe.csv\", sep='\\t', header=None)"
   ]
  },
  {
   "cell_type": "code",
   "execution_count": 5,
   "metadata": {},
   "outputs": [
    {
     "name": "stdout",
     "output_type": "stream",
     "text": [
      "10662\n",
      "10662\n"
     ]
    }
   ],
   "source": [
    "label=[x[-1:] for x in train_df[0]]\n",
    "data = [x for x in train_df1[0]]\n",
    "from string import punctuation\n",
    "# all_text = '\\n'.join([c for c in data if c not in punctuation])\n",
    "reviews_split = [c for c in data if c not in punctuation]\n",
    "print(len(reviews_split))\n",
    "print(len(label))"
   ]
  },
  {
   "cell_type": "code",
   "execution_count": 6,
   "metadata": {},
   "outputs": [
    {
     "name": "stdout",
     "output_type": "stream",
     "text": [
      "['1', '1', '1', '0', '1', '0', '1', '0', '1', '0']\n",
      "['том нөлөө бүхий жижиг кино', 'сэдвийг гүн гүнзгий, резонанс бүхий дүр төрхтэй болгох боломжийг санал болгохын тулд зориудаар, чадварлаг ашиглаж байна.', 'кинон дээр гарсан хөдөлгөөнт яруу найраг нь хөгжилтэй, мэдээлэл сайтай баримтат киноны хувьд бага зэрэг давтагдах боломжтой', 'үндсэндээ оддын хоорондох хагас импровизация болон хагас уялдаатай рапсын статик цуврал юм', 'энэ жилийн хамгийн ухаантай, хуурамч хошин шогуудын нэг болно', 'багц дээр хэн ч хошигнол мэдрэмжгүй, эсвэл тэд ярих мэдрэл байхгүй байсан', 'Алдарт эцэг эхчүүдэд дуурайж буй залуу эрчүүдэд ба эрсдэл нь камерын өмнө шинэ дүр төрх, мэдрэмжийг авчирдаг', 'гудамжны найдвартай байдлыг шаардахын тулд хэтэрхий гулсаж, үйлдвэрлэсэн', 'дамжуулж болохуйц зугаа цэнгэл гэхдээ энэ нь гарсны дараа маш олон тооны дүр төрх үүсгэсэн бөгөөд дараа нь дурсагдахгүй болно.', 'энэрэл нигүүлслийн захиас нь тун тодорхой бөгөөд тусгайлан компьютерийн хөдөлгөөнт хуучны гэрээслүүлсэн үлгэрийн үлгэрээр дамжуулж, эрч хүчтэй хөгжимт жүжигтэй хөгжилтэй, цоглог байхыг эрмэлзсэн халим энэ хошигнолыг насанд хүрээгүй юм']\n"
     ]
    }
   ],
   "source": [
    "print(label[0:10])\n",
    "print(data[0:10])"
   ]
  },
  {
   "cell_type": "code",
   "execution_count": 7,
   "metadata": {},
   "outputs": [],
   "source": [
    "train_x = [reviews_split[x] for x in range(0, 9000)]\n",
    "train_y = [label[i] for i in range(0, 9000)]\n",
    "\n",
    "\n",
    "test_x = [reviews_split[j] for j in range(9002,10662)]\n",
    "test_y = [label[o] for o in range(9002,10662)]"
   ]
  },
  {
   "cell_type": "code",
   "execution_count": 8,
   "metadata": {},
   "outputs": [
    {
     "name": "stdout",
     "output_type": "stream",
     "text": [
      "['том нөлөө бүхий жижиг кино', 'сэдвийг гүн гүнзгий, резонанс бүхий дүр төрхтэй болгох боломжийг санал болгохын тулд зориудаар, чадварлаг ашиглаж байна.', 'кинон дээр гарсан хөдөлгөөнт яруу найраг нь хөгжилтэй, мэдээлэл сайтай баримтат киноны хувьд бага зэрэг давтагдах боломжтой', 'үндсэндээ оддын хоорондох хагас импровизация болон хагас уялдаатай рапсын статик цуврал юм', 'энэ жилийн хамгийн ухаантай, хуурамч хошин шогуудын нэг болно', 'багц дээр хэн ч хошигнол мэдрэмжгүй, эсвэл тэд ярих мэдрэл байхгүй байсан', 'Алдарт эцэг эхчүүдэд дуурайж буй залуу эрчүүдэд ба эрсдэл нь камерын өмнө шинэ дүр төрх, мэдрэмжийг авчирдаг', 'гудамжны найдвартай байдлыг шаардахын тулд хэтэрхий гулсаж, үйлдвэрлэсэн', 'дамжуулж болохуйц зугаа цэнгэл гэхдээ энэ нь гарсны дараа маш олон тооны дүр төрх үүсгэсэн бөгөөд дараа нь дурсагдахгүй болно.', 'энэрэл нигүүлслийн захиас нь тун тодорхой бөгөөд тусгайлан компьютерийн хөдөлгөөнт хуучны гэрээслүүлсэн үлгэрийн үлгэрээр дамжуулж, эрч хүчтэй хөгжимт жүжигтэй хөгжилтэй, цоглог байхыг эрмэлзсэн халим энэ хошигнолыг насанд хүрээгүй юм']\n",
      "['1', '1', '1', '0', '1', '0', '1', '0', '1', '0']\n",
      "['Энэ зураг нь ихэнхдээ тээрмийн үг хэллэгийн талаархи цөөн хэдэн үг хэллэгээр цацагдсан тул үзэгчид түүнийг өргөмжлөлөөр ажиллуулж байгаа эсвэл туршилтын ажилтан дээр түрүүлэх гэж оролдож байгаа мэт сэтгэгдэл төрүүлэх гэсэн сэтгэлийн анхаарал хандуулсан байна.', 'дасан зохицох ажил нь маш нарийн зохион байгуулалттай бөгөөд хачирхалтай байдлаар бүх номын хөндийн сэдвийг түүний номонд жинхэнэ дасан зохицох чадваргүй болгодог.', 'туйлын зөөлөн, аажмаар аажмаар бөгөөд дижитал видеогоор цацагдсан киноноос зайлсхийх нь ихэвчлэн тасралтгүй болдог', '\\xa0Америкийн Нэгдсэн Улс дахь хошигнолыг жанраар дуурсгахыг оролддог. Энэ кино нь 10 жилийн хугацаатай тоглодог франц хип хоптой дүйцэхүйц юм.', 'үр дүн нь маш жигд бус байсан ч гэсэн зоригтой байдаг', 'кино намайг нэг талаар эсвэл өөр чиглэлээр хөдөлөөгүй боловч энэ нь үнэнч шударга хүчин чармайлт байсан бөгөөд хэрэв та телемаркетын талаар гүйлгэхийг хүсвэл энэ нь шалтгаална', 'семинарын сэтгэлгээ давамгайлдаг', 'сонгодог хатагтай, ноёд хатагтайн целлофан поп-рейк нь бүдүүн гэдэс хэзээ ч муу биш,', 'хамгийн бага төсөөллөөр та ванныхаа бүх зүйлийг нөхөж чадна', '\\xa0butterfingered нь романтик байдлаас хамгийн жижиг мэдрэмжийг хүртэл тэсэлгээ хийж чаддаг jez butterworth-ийн том нударга чиглэлийн үг юм.']\n",
      "['0', '1', '0', '0', '0', '0', '0', '0', '0', '0']\n"
     ]
    }
   ],
   "source": [
    "print(train_x[0:10])\n",
    "print(train_y[0:10])\n",
    "\n",
    "print(test_x[0:10])\n",
    "print(test_y[0:10])"
   ]
  },
  {
   "cell_type": "markdown",
   "metadata": {},
   "source": [
    "# Goverment 1111.mn dataset preprocessing"
   ]
  },
  {
   "cell_type": "code",
   "execution_count": 21,
   "metadata": {},
   "outputs": [],
   "source": [
    "#load data\n",
    "data= pd.read_csv(\"1111_mn.csv\")\n",
    "data = data[['content', 'type_text']]\n",
    "\n",
    "#shuppling data\n",
    "data1=data.sample(frac=1)"
   ]
  },
  {
   "cell_type": "code",
   "execution_count": 22,
   "metadata": {},
   "outputs": [
    {
     "data": {
      "text/html": [
       "<div>\n",
       "<style scoped>\n",
       "    .dataframe tbody tr th:only-of-type {\n",
       "        vertical-align: middle;\n",
       "    }\n",
       "\n",
       "    .dataframe tbody tr th {\n",
       "        vertical-align: top;\n",
       "    }\n",
       "\n",
       "    .dataframe thead th {\n",
       "        text-align: right;\n",
       "    }\n",
       "</style>\n",
       "<table border=\"1\" class=\"dataframe\">\n",
       "  <thead>\n",
       "    <tr style=\"text-align: right;\">\n",
       "      <th></th>\n",
       "      <th>content</th>\n",
       "      <th>type_text</th>\n",
       "    </tr>\n",
       "  </thead>\n",
       "  <tbody>\n",
       "    <tr>\n",
       "      <th>1431</th>\n",
       "      <td>БГД-ийн замын цагдаагийн ахмад Эрхэмбилэг нь б...</td>\n",
       "      <td>Талархал</td>\n",
       "    </tr>\n",
       "    <tr>\n",
       "      <th>2308</th>\n",
       "      <td>СБДүүргийн цагдаагийн 1 дүгээр хэлтсийн Нямпүр...</td>\n",
       "      <td>Талархал</td>\n",
       "    </tr>\n",
       "    <tr>\n",
       "      <th>2360</th>\n",
       "      <td>Өчигдөр би утсаа алдаад СБДүүргийн 1 дүгээр хэ...</td>\n",
       "      <td>Талархал</td>\n",
       "    </tr>\n",
       "    <tr>\n",
       "      <th>2800</th>\n",
       "      <td>Sain baina uu \\r\\nBi ochigdor Gandangiin uulzw...</td>\n",
       "      <td>Гомдол</td>\n",
       "    </tr>\n",
       "    <tr>\n",
       "      <th>5175</th>\n",
       "      <td>Оргил худалдааны төвөөс 5-р ангийн хүүхдүүдийн...</td>\n",
       "      <td>Гомдол</td>\n",
       "    </tr>\n",
       "    <tr>\n",
       "      <th>...</th>\n",
       "      <td>...</td>\n",
       "      <td>...</td>\n",
       "    </tr>\n",
       "    <tr>\n",
       "      <th>4661</th>\n",
       "      <td>ЕТГазрын иргэдэд үйлчилж байгаа байдал иргэдэд...</td>\n",
       "      <td>Гомдол</td>\n",
       "    </tr>\n",
       "    <tr>\n",
       "      <th>755</th>\n",
       "      <td>БЗД-ийн 2-р хорооны хэлтсийн ажилтан ахлах ахл...</td>\n",
       "      <td>Талархал</td>\n",
       "    </tr>\n",
       "    <tr>\n",
       "      <th>1288</th>\n",
       "      <td>12-р сарын 3-нд 103 түргэний дуудлагаар ирсэн ...</td>\n",
       "      <td>Талархал</td>\n",
       "    </tr>\n",
       "    <tr>\n",
       "      <th>4681</th>\n",
       "      <td>СХДүүргийн 19-р хорооны 5-58-р байрны урд була...</td>\n",
       "      <td>Гомдол</td>\n",
       "    </tr>\n",
       "    <tr>\n",
       "      <th>5853</th>\n",
       "      <td>ХУД эрчим хүчний газар гомдолтой байна. Энэ са...</td>\n",
       "      <td>Гомдол</td>\n",
       "    </tr>\n",
       "  </tbody>\n",
       "</table>\n",
       "<p>5928 rows × 2 columns</p>\n",
       "</div>"
      ],
      "text/plain": [
       "                                                content type_text\n",
       "1431  БГД-ийн замын цагдаагийн ахмад Эрхэмбилэг нь б...  Талархал\n",
       "2308  СБДүүргийн цагдаагийн 1 дүгээр хэлтсийн Нямпүр...  Талархал\n",
       "2360  Өчигдөр би утсаа алдаад СБДүүргийн 1 дүгээр хэ...  Талархал\n",
       "2800  Sain baina uu \\r\\nBi ochigdor Gandangiin uulzw...    Гомдол\n",
       "5175  Оргил худалдааны төвөөс 5-р ангийн хүүхдүүдийн...    Гомдол\n",
       "...                                                 ...       ...\n",
       "4661  ЕТГазрын иргэдэд үйлчилж байгаа байдал иргэдэд...    Гомдол\n",
       "755   БЗД-ийн 2-р хорооны хэлтсийн ажилтан ахлах ахл...  Талархал\n",
       "1288  12-р сарын 3-нд 103 түргэний дуудлагаар ирсэн ...  Талархал\n",
       "4681  СХДүүргийн 19-р хорооны 5-58-р байрны урд була...    Гомдол\n",
       "5853  ХУД эрчим хүчний газар гомдолтой байна. Энэ са...    Гомдол\n",
       "\n",
       "[5928 rows x 2 columns]"
      ]
     },
     "execution_count": 22,
     "metadata": {},
     "output_type": "execute_result"
    }
   ],
   "source": [
    "data1"
   ]
  },
  {
   "cell_type": "code",
   "execution_count": 23,
   "metadata": {},
   "outputs": [],
   "source": [
    "import re\n",
    "#setting all data to lower  \n",
    "data1['content'] = data1['content'].apply(lambda x: x.lower())\n",
    "\n",
    "#change label urlag and tech to integer like 0 and 1\n",
    "data1['type_text'] = data1['type_text'].apply((lambda x: re.sub('Талархал','1',x)))\n",
    "data1['type_text'] = data1['type_text'].apply((lambda x: re.sub('Гомдол','0',x)))"
   ]
  },
  {
   "cell_type": "code",
   "execution_count": 35,
   "metadata": {},
   "outputs": [
    {
     "data": {
      "text/plain": [
       "1431    бгд-ийн замын цагдаагийн ахмад эрхэмбилэг нь б...\n",
       "2308    сбдүүргийн цагдаагийн 1 дүгээр хэлтсийн нямпүр...\n",
       "2360    өчигдөр би утсаа алдаад сбдүүргийн 1 дүгээр хэ...\n",
       "2800    sain baina uu \\r\\nbi ochigdor gandangiin uulzw...\n",
       "5175    оргил худалдааны төвөөс 5-р ангийн хүүхдүүдийн...\n",
       "                              ...                        \n",
       "4661    етгазрын иргэдэд үйлчилж байгаа байдал иргэдэд...\n",
       "755     бзд-ийн 2-р хорооны хэлтсийн ажилтан ахлах ахл...\n",
       "1288    12-р сарын 3-нд 103 түргэний дуудлагаар ирсэн ...\n",
       "4681    схдүүргийн 19-р хорооны 5-58-р байрны урд була...\n",
       "5853    худ эрчим хүчний газар гомдолтой байна. энэ са...\n",
       "Name: content, Length: 5928, dtype: object"
      ]
     },
     "execution_count": 35,
     "metadata": {},
     "output_type": "execute_result"
    }
   ],
   "source": [
    "data1['content']"
   ]
  },
  {
   "cell_type": "code",
   "execution_count": 36,
   "metadata": {},
   "outputs": [],
   "source": [
    "train_x = data1['content'][0:3000]\n",
    "train_y = data1['type_text'][0:3000]\n",
    "\n",
    "test_x = data1['content'][3002:5925]\n",
    "test_y = data1['type_text'][3002:5925]\n"
   ]
  },
  {
   "cell_type": "code",
   "execution_count": 37,
   "metadata": {},
   "outputs": [
    {
     "name": "stdout",
     "output_type": "stream",
     "text": [
      "60 оноос хойш тэтгэвэрт гарсан. өөрөө нас барсан 8 сая төгрөг нь нд-ын дансанд нь байдаг. энэ хүмүүсийн даатгалын мөнгийг гэр бүлийнхэнд нь олгох боломж байдаг уу? ямар хууль тогтоомжоор шийдэгддэг юм бэ? говь сүмбэр аймаг\n",
      "1431    1\n",
      "2308    1\n",
      "2360    1\n",
      "2800    0\n",
      "5175    0\n",
      "3708    0\n",
      "4293    0\n",
      "2645    0\n",
      "1512    1\n",
      "1443    1\n",
      "Name: type_text, dtype: object\n",
      "2337    бгд-ийн цагдаагийн 2 хэлтсийн хэрэг бүртгэгч ц...\n",
      "3773    байрны төлбөрийн талаар    нийслэлийн хан-уул ...\n",
      "1656    сбд 7-р хорооны хэсгийн эмнэлэгт үзүүлээд ходо...\n",
      "2043    чд 19-р хороо засаг дарга оюунгэрэл нь маш их ...\n",
      "4165    ene gar utasnii tarif secunded shiljeed, barit...\n",
      "240     103-ийн схд-ийн салбарын хүүхдийн эмч адьхүүд ...\n",
      "3836    энэ худ -ийн хос өргөө хотхоны 29 б байрны сөх...\n",
      "1750    бзд-ийн 16-р хорооны хандсүрэн эрхлэгчтэй 8-р ...\n",
      "2198    би сая утсаа алдсан юм. сбдүүргийн 1 дүгээр хэ...\n",
      "1150    нэгдсэн 2-р эмнэлгийн мэдрэлийн эмч дуламрагча...\n",
      "Name: content, dtype: object\n",
      "2337    1\n",
      "3773    0\n",
      "1656    1\n",
      "2043    1\n",
      "4165    0\n",
      "240     1\n",
      "3836    0\n",
      "1750    1\n",
      "2198    1\n",
      "1150    1\n",
      "Name: type_text, dtype: object\n"
     ]
    }
   ],
   "source": [
    "print(train_x[0])\n",
    "print(train_y[0:10])\n",
    "\n",
    "print(test_x[0:10])\n",
    "print(test_y[0:10])"
   ]
  },
  {
   "cell_type": "markdown",
   "metadata": {},
   "source": [
    "# Modeling"
   ]
  },
  {
   "cell_type": "code",
   "execution_count": 38,
   "metadata": {},
   "outputs": [],
   "source": [
    "from sklearn.feature_extraction.text import TfidfVectorizer\n",
    "from sklearn.ensemble import GradientBoostingClassifier"
   ]
  },
  {
   "cell_type": "code",
   "execution_count": 39,
   "metadata": {},
   "outputs": [],
   "source": [
    "vectorizer = TfidfVectorizer()\n",
    "train_xs = vectorizer.fit_transform(train_x)\n",
    "test_xs = vectorizer.transform(test_x)"
   ]
  },
  {
   "cell_type": "code",
   "execution_count": 40,
   "metadata": {},
   "outputs": [
    {
     "data": {
      "text/plain": [
       "GradientBoostingClassifier(n_estimators=200, n_iter_no_change=5,\n",
       "                           random_state=23, tol=0.01, validation_fraction=0.2)"
      ]
     },
     "execution_count": 40,
     "metadata": {},
     "output_type": "execute_result"
    }
   ],
   "source": [
    "\n",
    "\n",
    "model = GradientBoostingClassifier(n_estimators=200,\n",
    "                                   validation_fraction=0.2,\n",
    "                                   n_iter_no_change=5,\n",
    "                                   tol=0.01,\n",
    "                                   random_state=23)\n",
    "\n",
    "### 1/5 of full training data.\n",
    "# model = GradientBoostingClassifier(n_estimators=200,\n",
    "#                                    validation_fraction=len(dev_df)/len(train_df),\n",
    "#                                    n_iter_no_change=5,\n",
    "#                                    tol=0.01,\n",
    "#                                    random_state=23)\n",
    "\n",
    "model.fit(train_xs, train_y)"
   ]
  },
  {
   "cell_type": "code",
   "execution_count": 41,
   "metadata": {},
   "outputs": [
    {
     "name": "stdout",
     "output_type": "stream",
     "text": [
      "              precision    recall  f1-score   support\n",
      "\n",
      "           0       0.93      1.00      0.96      1707\n",
      "           1       1.00      0.90      0.95      1216\n",
      "\n",
      "    accuracy                           0.96      2923\n",
      "   macro avg       0.96      0.95      0.95      2923\n",
      "weighted avg       0.96      0.96      0.96      2923\n",
      "\n"
     ]
    }
   ],
   "source": [
    "print(classification_report(test_y, model.predict(test_xs)))"
   ]
  },
  {
   "cell_type": "code",
   "execution_count": 42,
   "metadata": {},
   "outputs": [
    {
     "name": "stdout",
     "output_type": "stream",
     "text": [
      "[[1703    4]\n",
      " [ 122 1094]]\n"
     ]
    }
   ],
   "source": [
    "print(confusion_matrix(test_y, model.predict(test_xs)))"
   ]
  },
  {
   "cell_type": "code",
   "execution_count": 45,
   "metadata": {},
   "outputs": [
    {
     "data": {
      "text/plain": [
       "array(['1'], dtype=object)"
      ]
     },
     "execution_count": 45,
     "metadata": {},
     "output_type": "execute_result"
    }
   ],
   "source": [
    "model.predict(vectorizer.transform(['талархаж байна']))"
   ]
  },
  {
   "cell_type": "code",
   "execution_count": 75,
   "metadata": {},
   "outputs": [
    {
     "data": {
      "text/plain": [
       "1660"
      ]
     },
     "execution_count": 75,
     "metadata": {},
     "output_type": "execute_result"
    }
   ],
   "source": [
    "len(test_x)"
   ]
  },
  {
   "cell_type": "code",
   "execution_count": null,
   "metadata": {},
   "outputs": [],
   "source": []
  }
 ],
 "metadata": {
  "kernelspec": {
   "display_name": "Python 3",
   "language": "python",
   "name": "python3"
  },
  "language_info": {
   "codemirror_mode": {
    "name": "ipython",
    "version": 3
   },
   "file_extension": ".py",
   "mimetype": "text/x-python",
   "name": "python",
   "nbconvert_exporter": "python",
   "pygments_lexer": "ipython3",
   "version": "3.6.10"
  }
 },
 "nbformat": 4,
 "nbformat_minor": 2
}
